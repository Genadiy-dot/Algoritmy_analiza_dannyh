{
 "cells": [
  {
   "cell_type": "markdown",
   "id": "34e0b1d9",
   "metadata": {},
   "source": [
    "# Геннадий Балан"
   ]
  },
  {
   "cell_type": "markdown",
   "id": "af17b248",
   "metadata": {},
   "source": [
    "# Домашняя работа по Алгоритмам анализа данных № 8"
   ]
  },
  {
   "cell_type": "markdown",
   "id": "a6ab5b42",
   "metadata": {},
   "source": [
    "# Тема: Снижение размерности данных"
   ]
  },
  {
   "cell_type": "markdown",
   "id": "0ee9002c",
   "metadata": {},
   "source": [
    "##### Задача 1\n",
    "Обучить любую модель классификации на датасете IRIS до применения самописного PCA (2 компоненты) и после него. Сравнить качество классификации по отложенной выборке."
   ]
  },
  {
   "cell_type": "code",
   "execution_count": 1,
   "id": "a3053c02",
   "metadata": {},
   "outputs": [],
   "source": [
    "import matplotlib.pyplot as plt\n",
    "import numpy as np\n",
    "from sklearn import datasets\n"
   ]
  },
  {
   "cell_type": "code",
   "execution_count": 2,
   "id": "8deabd40",
   "metadata": {},
   "outputs": [
    {
     "data": {
      "text/plain": [
       "(150, 4)"
      ]
     },
     "execution_count": 2,
     "metadata": {},
     "output_type": "execute_result"
    }
   ],
   "source": [
    "# Загрузим игрушечный датасет из sklearn\n",
    "iris = datasets.load_iris()\n",
    "X = iris.data\n",
    "X.shape"
   ]
  },
  {
   "cell_type": "code",
   "execution_count": 3,
   "id": "c1b44058",
   "metadata": {},
   "outputs": [
    {
     "data": {
      "image/png": "[encoded data removed]",
      "text/plain": [
       "<Figure size 432x288 with 1 Axes>"
      ]
     },
     "metadata": {
      "needs_background": "light"
     },
     "output_type": "display_data"
    }
   ],
   "source": [
    "def standard_scale(x):\n",
    "    res = (x - x.mean(axis=0)) / x.std(axis=0)\n",
    "    return res\n",
    "\n",
    "\n",
    "X = standard_scale(X)\n",
    "plt.scatter(X[:, 0], X[:, 1])\n",
    "plt.grid()"
   ]
  },
  {
   "cell_type": "code",
   "execution_count": 4,
   "id": "4c71b343",
   "metadata": {},
   "outputs": [],
   "source": [
    "# Для начала отмасштабируем выборку\n",
    "X = X.astype(float)\n",
    "\n",
    "X = standard_scale(X)"
   ]
  },
  {
   "cell_type": "code",
   "execution_count": 6,
   "id": "b4885739",
   "metadata": {},
   "outputs": [
    {
     "data": {
      "text/plain": [
       "array([[-0.90068117,  1.01900435, -1.34022653, -1.3154443 ],\n",
       "       [-1.14301691, -0.13197948, -1.34022653, -1.3154443 ],\n",
       "       [-1.38535265,  0.32841405, -1.39706395, -1.3154443 ],\n",
       "       [-1.50652052,  0.09821729, -1.2833891 , -1.3154443 ],\n",
       "       [-1.02184904,  1.24920112, -1.34022653, -1.3154443 ],\n",
       "       [-0.53717756,  1.93979142, -1.16971425, -1.05217993],\n",
       "       [-1.50652052,  0.78880759, -1.34022653, -1.18381211],\n",
       "       [-1.02184904,  0.78880759, -1.2833891 , -1.3154443 ],\n",
       "       [-1.74885626, -0.36217625, -1.34022653, -1.3154443 ],\n",
       "       [-1.14301691,  0.09821729, -1.2833891 , -1.44707648]])"
      ]
     },
     "execution_count": 6,
     "metadata": {},
     "output_type": "execute_result"
    }
   ],
   "source": [
    "X[:10]"
   ]
  },
  {
   "cell_type": "code",
   "execution_count": 28,
   "id": "70bdc462",
   "metadata": {},
   "outputs": [
    {
     "data": {
      "image/png": "[encoded data removed]",
      "text/plain": [
       "<Figure size 432x288 with 1 Axes>"
      ]
     },
     "metadata": {
      "needs_background": "light"
     },
     "output_type": "display_data"
    }
   ],
   "source": [
    "plt.figure()\n",
    "y = iris.target\n",
    "for c, i in zip(\"rgb\", [0, 1, 2]):\n",
    "    plt.scatter(X[y == i, 0], X[y == i, 1], c=c)\n",
    "plt.xlabel('Главная компонента 1')\n",
    "plt.ylabel('Главная компонента 2')\n",
    "plt.title('До PCA датасета IRIS')\n",
    "plt.show()"
   ]
  },
  {
   "cell_type": "code",
   "execution_count": null,
   "id": "f08ae47f",
   "metadata": {},
   "outputs": [],
   "source": [
    "Вывод: при 4 признаках отчётливо выделяется один кластер,а два остальных выделить невозможно"
   ]
  },
  {
   "cell_type": "code",
   "execution_count": null,
   "id": "c03936ab",
   "metadata": {},
   "outputs": [],
   "source": [
    "Используем понижение размерности при помощи метода главных компонент"
   ]
  },
  {
   "cell_type": "code",
   "execution_count": 12,
   "id": "8b4d781a",
   "metadata": {},
   "outputs": [
    {
     "name": "stdout",
     "output_type": "stream",
     "text": [
      "Собственные значения и собственные векторы в порядке убывания:\n",
      "(437.7746724797988, array([ 0.52106591, -0.26934744,  0.5804131 ,  0.56485654]))\n",
      "(137.10457072021057, array([-0.37741762, -0.92329566, -0.02449161, -0.06694199]))\n",
      "(22.013531335697163, array([-0.71956635,  0.24438178,  0.14212637,  0.63427274]))\n",
      "(3.1072254642929815, array([ 0.26128628, -0.12350962, -0.80144925,  0.52359713]))\n"
     ]
    }
   ],
   "source": [
    "# Найдем собственные векторы и собственные значения\n",
    " \n",
    "covariance_matrix = X.T @ X\n",
    "\n",
    "eig_values, eig_vectors = np.linalg.eig(covariance_matrix)\n",
    "\n",
    "# сформируем список кортежей (собственное значение, собственный вектор)\n",
    "eig_pairs = [(np.abs(eig_values[i]), eig_vectors[:, i]) for i in range(len(eig_values))]\n",
    "\n",
    "# и отсортируем список по убыванию собственных значений\n",
    "eig_pairs.sort(key=lambda x: x[0], reverse=True)\n",
    "\n",
    "print('Собственные значения и собственные векторы в порядке убывания:')\n",
    "for i in eig_pairs:\n",
    "    print(i)"
   ]
  },
  {
   "cell_type": "code",
   "execution_count": null,
   "id": "af5ed359",
   "metadata": {},
   "outputs": [],
   "source": [
    "Оценим долю дисперсии, которая описывается найденными компонентами."
   ]
  },
  {
   "cell_type": "code",
   "execution_count": 13,
   "id": "27e9b146",
   "metadata": {},
   "outputs": [
    {
     "name": "stdout",
     "output_type": "stream",
     "text": [
      "Доля дисперсии, описываемая каждой из компонент \n",
      "[72.96244541329986, 22.850761786701778, 3.6689218892828634, 0.5178709107154973]\n",
      "Кумулятивная доля дисперсии по компонентам \n",
      "[ 72.96244541  95.8132072   99.48212909 100.        ]\n"
     ]
    }
   ],
   "source": [
    "eig_sum = sum(eig_values)\n",
    "var_exp = [(i / eig_sum) * 100 for i in sorted(eig_values, reverse=True)]\n",
    "cum_var_exp = np.cumsum(var_exp)\n",
    "print(f'Доля дисперсии, описываемая каждой из компонент \\n{var_exp}')\n",
    "\n",
    "# а теперь оценим кумулятивную (то есть накапливаемую) дисперсию при учитывании каждой из компонент\n",
    "print(f'Кумулятивная доля дисперсии по компонентам \\n{cum_var_exp}')"
   ]
  },
  {
   "cell_type": "code",
   "execution_count": null,
   "id": "4bff4f13",
   "metadata": {},
   "outputs": [],
   "source": [
    "Можно оставить первые два признака,они в сумме дают 96% процентов информации,остальные отборсить"
   ]
  },
  {
   "cell_type": "code",
   "execution_count": 14,
   "id": "0b75baa5",
   "metadata": {},
   "outputs": [
    {
     "name": "stdout",
     "output_type": "stream",
     "text": [
      "Матрица весов W:\n",
      " [[ 0.52106591 -0.37741762]\n",
      " [-0.26934744 -0.92329566]\n",
      " [ 0.5804131  -0.02449161]\n",
      " [ 0.56485654 -0.06694199]]\n"
     ]
    }
   ],
   "source": [
    "# Сформируем вектор весов из собственных векторов, соответствующих первым двум главным компонентам\n",
    "W = np.hstack([eig_pairs[i][1].reshape(4,1) for i in range(2)])\n",
    "\n",
    "print(f'Матрица весов W:\\n', W)"
   ]
  },
  {
   "cell_type": "code",
   "execution_count": 15,
   "id": "d581ce03",
   "metadata": {},
   "outputs": [],
   "source": [
    "# Сформируем новую матрицу \"объекты-признаки\"\n",
    "Z = X.dot(W)"
   ]
  },
  {
   "cell_type": "code",
   "execution_count": 16,
   "id": "2db16cc3",
   "metadata": {},
   "outputs": [
    {
     "data": {
      "text/plain": [
       "array([[-2.26470281, -0.4800266 ],\n",
       "       [-2.08096115,  0.67413356],\n",
       "       [-2.36422905,  0.34190802],\n",
       "       [-2.29938422,  0.59739451],\n",
       "       [-2.38984217, -0.64683538],\n",
       "       [-2.07563095, -1.48917752],\n",
       "       [-2.44402884, -0.0476442 ],\n",
       "       [-2.23284716, -0.22314807],\n",
       "       [-2.33464048,  1.11532768],\n",
       "       [-2.18432817,  0.46901356]])"
      ]
     },
     "execution_count": 16,
     "metadata": {},
     "output_type": "execute_result"
    }
   ],
   "source": [
    "Z[:10]"
   ]
  },
  {
   "cell_type": "code",
   "execution_count": 29,
   "id": "b0de8abc",
   "metadata": {},
   "outputs": [
    {
     "data": {
      "image/png": "[encoded data removed]",
      "text/plain": [
       "<Figure size 432x288 with 1 Axes>"
      ]
     },
     "metadata": {
      "needs_background": "light"
     },
     "output_type": "display_data"
    }
   ],
   "source": [
    "plt.figure()\n",
    "y = iris.target\n",
    "for c, i in zip(\"rgb\", [0, 1, 2]):\n",
    "    plt.scatter(Z[y == i, 0], Z[y == i, 1], c=c)\n",
    "plt.xlabel('Главная компонента 1')\n",
    "plt.ylabel('Главная компонента 2')\n",
    "plt.title('После PCA датасета IRIS')\n",
    "plt.show()"
   ]
  },
  {
   "cell_type": "code",
   "execution_count": null,
   "id": "657c287b",
   "metadata": {},
   "outputs": [],
   "source": [
    "Вывод: при использовании метода главных компонент отчётливо стали выделяться три кластера по двум признакам"
   ]
  },
  {
   "cell_type": "markdown",
   "id": "57d8a9c6",
   "metadata": {},
   "source": [
    "##### Задача 2\n",
    "Написать свою реализацию метода главных компонент с помощью сингулярного разложения с использованием функции numpy.linalg.svd()"
   ]
  },
  {
   "cell_type": "code",
   "execution_count": 5,
   "id": "d819fa27",
   "metadata": {},
   "outputs": [
    {
     "data": {
      "text/plain": [
       "array([[-0.90068117,  1.01900435, -1.34022653, -1.3154443 ],\n",
       "       [-1.14301691, -0.13197948, -1.34022653, -1.3154443 ],\n",
       "       [-1.38535265,  0.32841405, -1.39706395, -1.3154443 ],\n",
       "       [-1.50652052,  0.09821729, -1.2833891 , -1.3154443 ],\n",
       "       [-1.02184904,  1.24920112, -1.34022653, -1.3154443 ],\n",
       "       [-0.53717756,  1.93979142, -1.16971425, -1.05217993],\n",
       "       [-1.50652052,  0.78880759, -1.34022653, -1.18381211],\n",
       "       [-1.02184904,  0.78880759, -1.2833891 , -1.3154443 ],\n",
       "       [-1.74885626, -0.36217625, -1.34022653, -1.3154443 ],\n",
       "       [-1.14301691,  0.09821729, -1.2833891 , -1.44707648]])"
      ]
     },
     "execution_count": 5,
     "metadata": {},
     "output_type": "execute_result"
    }
   ],
   "source": [
    "X[:10]"
   ]
  },
  {
   "cell_type": "code",
   "execution_count": 6,
   "id": "e72f19b0",
   "metadata": {},
   "outputs": [
    {
     "data": {
      "text/plain": [
       "(array([[-1.08239531e-01, -4.09957970e-02,  2.72186462e-02, ...,\n",
       "          5.43380310e-02,  1.96438400e-03,  2.46978090e-03],\n",
       "        [-9.94577561e-02,  5.75731483e-02,  5.00034005e-02, ...,\n",
       "          5.12936114e-03,  8.48544595e-02,  5.83496936e-03],\n",
       "        [-1.12996303e-01,  2.92000319e-02, -9.42089147e-03, ...,\n",
       "          2.75184277e-02,  1.78604309e-01,  1.49419118e-01],\n",
       "        ...,\n",
       "        [ 7.27030413e-02, -2.29793601e-02, -3.84023516e-02, ...,\n",
       "          9.89532683e-01, -1.25488246e-02, -7.17729676e-04],\n",
       "        [ 6.56112167e-02, -8.63643414e-02, -1.98939364e-01, ...,\n",
       "         -1.41206665e-02,  9.52049996e-01, -2.32048811e-02],\n",
       "        [ 4.59137323e-02,  2.07800179e-03, -1.12588405e-01, ...,\n",
       "         -8.30595907e-04, -2.19201906e-02,  9.77300244e-01]]),\n",
       " array([20.92306556, 11.7091661 ,  4.69185798,  1.76273239]),\n",
       " array([[ 0.52106591, -0.26934744,  0.5804131 ,  0.56485654],\n",
       "        [-0.37741762, -0.92329566, -0.02449161, -0.06694199],\n",
       "        [ 0.71956635, -0.24438178, -0.14212637, -0.63427274],\n",
       "        [ 0.26128628, -0.12350962, -0.80144925,  0.52359713]]))"
      ]
     },
     "execution_count": 6,
     "metadata": {},
     "output_type": "execute_result"
    }
   ],
   "source": [
    "# Используем функцию SVD  \n",
    "np.linalg.svd(X)"
   ]
  },
  {
   "cell_type": "code",
   "execution_count": null,
   "id": "8339d760",
   "metadata": {},
   "outputs": [],
   "source": [
    "Первая матрица-ортогональная матрица корелляции X @ X.T, вторая матрица-диагональная с четырьмя  компонентами-\n",
    " собственными значениями матрицы X,они же сингулярные числа матрицы Х.Причём они уже отсортированы автоматически по убыванию\n",
    "Третья матрица--ортогональная транспонированная матрица ковариации (X.T @ X).T\n",
    "\n",
    "\n"
   ]
  },
  {
   "cell_type": "code",
   "execution_count": 7,
   "id": "683c3a66",
   "metadata": {},
   "outputs": [],
   "source": [
    "U, D, Vt = np.linalg.svd(X)"
   ]
  },
  {
   "cell_type": "code",
   "execution_count": 8,
   "id": "2837165f",
   "metadata": {},
   "outputs": [
    {
     "data": {
      "text/plain": [
       "array([[-1.08239531e-01, -4.09957970e-02,  2.72186462e-02, ...,\n",
       "         5.43380310e-02,  1.96438400e-03,  2.46978090e-03],\n",
       "       [-9.94577561e-02,  5.75731483e-02,  5.00034005e-02, ...,\n",
       "         5.12936114e-03,  8.48544595e-02,  5.83496936e-03],\n",
       "       [-1.12996303e-01,  2.92000319e-02, -9.42089147e-03, ...,\n",
       "         2.75184277e-02,  1.78604309e-01,  1.49419118e-01],\n",
       "       ...,\n",
       "       [ 7.27030413e-02, -2.29793601e-02, -3.84023516e-02, ...,\n",
       "         9.89532683e-01, -1.25488246e-02, -7.17729676e-04],\n",
       "       [ 6.56112167e-02, -8.63643414e-02, -1.98939364e-01, ...,\n",
       "        -1.41206665e-02,  9.52049996e-01, -2.32048811e-02],\n",
       "       [ 4.59137323e-02,  2.07800179e-03, -1.12588405e-01, ...,\n",
       "        -8.30595907e-04, -2.19201906e-02,  9.77300244e-01]])"
      ]
     },
     "execution_count": 8,
     "metadata": {},
     "output_type": "execute_result"
    }
   ],
   "source": [
    "U"
   ]
  },
  {
   "cell_type": "code",
   "execution_count": 9,
   "id": "255aff4d",
   "metadata": {},
   "outputs": [
    {
     "data": {
      "text/plain": [
       "array([20.92306556, 11.7091661 ,  4.69185798,  1.76273239])"
      ]
     },
     "execution_count": 9,
     "metadata": {},
     "output_type": "execute_result"
    }
   ],
   "source": [
    "D"
   ]
  },
  {
   "cell_type": "code",
   "execution_count": 10,
   "id": "9dea04a9",
   "metadata": {},
   "outputs": [
    {
     "data": {
      "text/plain": [
       "array([[ 0.52106591, -0.26934744,  0.5804131 ,  0.56485654],\n",
       "       [-0.37741762, -0.92329566, -0.02449161, -0.06694199],\n",
       "       [ 0.71956635, -0.24438178, -0.14212637, -0.63427274],\n",
       "       [ 0.26128628, -0.12350962, -0.80144925,  0.52359713]])"
      ]
     },
     "execution_count": 10,
     "metadata": {},
     "output_type": "execute_result"
    }
   ],
   "source": [
    "Vt"
   ]
  },
  {
   "cell_type": "code",
   "execution_count": 11,
   "id": "25a2411c",
   "metadata": {},
   "outputs": [
    {
     "data": {
      "text/plain": [
       "array([[ 1.00000000e+00,  1.23155202e-16,  2.88939879e-17, ...,\n",
       "        -1.55559718e-17,  1.94614290e-17,  9.54097912e-18],\n",
       "       [ 1.23155202e-16,  1.00000000e+00, -8.38088279e-17, ...,\n",
       "        -2.80198499e-18, -3.67544536e-17,  8.67361738e-18],\n",
       "       [ 2.88939879e-17, -8.38088279e-17,  1.00000000e+00, ...,\n",
       "         1.50975153e-17,  5.68121938e-17,  5.55111512e-17],\n",
       "       ...,\n",
       "       [-1.55559718e-17, -2.80198499e-18,  1.50975153e-17, ...,\n",
       "         1.00000000e+00, -1.49077799e-18, -1.73472348e-18],\n",
       "       [ 1.94614290e-17, -3.67544536e-17,  5.68121938e-17, ...,\n",
       "        -1.49077799e-18,  1.00000000e+00, -2.08166817e-17],\n",
       "       [ 9.54097912e-18,  8.67361738e-18,  5.55111512e-17, ...,\n",
       "        -1.73472348e-18, -2.08166817e-17,  1.00000000e+00]])"
      ]
     },
     "execution_count": 11,
     "metadata": {},
     "output_type": "execute_result"
    }
   ],
   "source": [
    "np.dot(U, U.T) # мы видим,что на главной диагонали единицы,а остальные ячейки--нули"
   ]
  },
  {
   "cell_type": "code",
   "execution_count": 12,
   "id": "90fd4920",
   "metadata": {},
   "outputs": [
    {
     "data": {
      "text/plain": [
       "array([[ 1.00000000e+00,  3.88578059e-16, -1.66533454e-16,\n",
       "        -1.11022302e-16],\n",
       "       [ 3.88578059e-16,  1.00000000e+00,  5.55111512e-17,\n",
       "         1.94289029e-16],\n",
       "       [-1.66533454e-16,  5.55111512e-17,  1.00000000e+00,\n",
       "        -5.55111512e-17],\n",
       "       [-1.11022302e-16,  1.94289029e-16, -5.55111512e-17,\n",
       "         1.00000000e+00]])"
      ]
     },
     "execution_count": 12,
     "metadata": {},
     "output_type": "execute_result"
    }
   ],
   "source": [
    "np.dot(Vt, Vt.T) # аналогичная картина наблюдается тут"
   ]
  },
  {
   "cell_type": "code",
   "execution_count": null,
   "id": "6c1257a8",
   "metadata": {},
   "outputs": [],
   "source": [
    "Контроль выполнен"
   ]
  },
  {
   "cell_type": "code",
   "execution_count": 13,
   "id": "3a0fe1a6",
   "metadata": {},
   "outputs": [
    {
     "name": "stdout",
     "output_type": "stream",
     "text": [
      "Доля дисперсии, описываемая каждой из компонент \n",
      "[53.529717882362405, 29.956812784020098, 12.003682417209479, 4.509786916408033]\n",
      "Кумулятивная доля дисперсии по компонентам \n",
      "[ 53.52971788  83.48653067  95.49021308 100.        ]\n"
     ]
    }
   ],
   "source": [
    "D_sum = sum(D)\n",
    "var_exp = [(i / D_sum) * 100 for i in sorted(D, reverse=True)]\n",
    "cum_var_exp = np.cumsum(var_exp)\n",
    "print(f'Доля дисперсии, описываемая каждой из компонент \\n{var_exp}')\n",
    "\n",
    "# а теперь оценим кумулятивную (то есть накапливаемую) дисперсию при учитывании каждой из компонент\n",
    "print(f'Кумулятивная доля дисперсии по компонентам \\n{cum_var_exp}')"
   ]
  },
  {
   "cell_type": "code",
   "execution_count": 27,
   "id": "9edcb423",
   "metadata": {},
   "outputs": [],
   "source": [
    "# Сформируем вектор весов из cингулярных чисел, соответствующих первым двум главным компонентам\n",
    "sing_pairs = [(np.abs(D[i])) for i in range(len(D))]\n",
    "\n",
    "\n",
    "#print(f'Матрица весов W:\\n', W)"
   ]
  },
  {
   "cell_type": "code",
   "execution_count": 29,
   "id": "c8b2925a",
   "metadata": {},
   "outputs": [],
   "source": [
    "W = sing_pairs"
   ]
  },
  {
   "cell_type": "code",
   "execution_count": 30,
   "id": "58611827",
   "metadata": {},
   "outputs": [
    {
     "data": {
      "text/plain": [
       "[20.923065561236474, 11.70916609841243, 4.6918579833257175, 1.7627323858977804]"
      ]
     },
     "execution_count": 30,
     "metadata": {},
     "output_type": "execute_result"
    }
   ],
   "source": [
    "W"
   ]
  },
  {
   "cell_type": "code",
   "execution_count": 31,
   "id": "784ddc04",
   "metadata": {},
   "outputs": [
    {
     "name": "stdout",
     "output_type": "stream",
     "text": [
      "Матрица весов W:\n",
      " [20.923065561236474, 11.70916609841243, 4.6918579833257175, 1.7627323858977804]\n"
     ]
    }
   ],
   "source": [
    "print(f'Матрица весов W:\\n', W)"
   ]
  },
  {
   "cell_type": "code",
   "execution_count": 32,
   "id": "cab2d8c8",
   "metadata": {},
   "outputs": [],
   "source": [
    "Z = X.dot(W)"
   ]
  },
  {
   "cell_type": "code",
   "execution_count": 34,
   "id": "2ca5a2a3",
   "metadata": {},
   "outputs": [
    {
     "data": {
      "text/plain": [
       "array([-15.52024875, -34.0677162 , -34.01397159, -38.71124079,\n",
       "       -15.36003988,   4.13109386, -30.6596451 , -20.48419109,\n",
       "       -49.43914486, -31.33766321])"
      ]
     },
     "execution_count": 34,
     "metadata": {},
     "output_type": "execute_result"
    }
   ],
   "source": [
    "Z[: 10]"
   ]
  },
  {
   "cell_type": "code",
   "execution_count": null,
   "id": "cf478dd6",
   "metadata": {},
   "outputs": [],
   "source": []
  }
 ],
 "metadata": {
  "kernelspec": {
   "display_name": "Python 3",
   "language": "python",
   "name": "python3"
  },
  "language_info": {
   "codemirror_mode": {
    "name": "ipython",
    "version": 3
   },
   "file_extension": ".py",
   "mimetype": "text/x-python",
   "name": "python",
   "nbconvert_exporter": "python",
   "pygments_lexer": "ipython3",
   "version": "3.8.8"
  }
 },
 "nbformat": 4,
 "nbformat_minor": 5
}
