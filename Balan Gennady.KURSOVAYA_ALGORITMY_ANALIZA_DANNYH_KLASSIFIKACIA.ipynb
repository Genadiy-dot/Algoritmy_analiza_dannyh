{
 "cells": [
  {
   "cell_type": "code",
   "execution_count": 1,
   "id": "aa3856ef",
   "metadata": {},
   "outputs": [],
   "source": [
    "import numpy as np\n",
    "import pandas as pd\n",
    "from sklearn.model_selection import train_test_split\n",
    "import matplotlib.pyplot as plt\n",
    "import seaborn as sns"
   ]
  },
  {
   "cell_type": "code",
   "execution_count": 26,
   "id": "6006b0f5",
   "metadata": {},
   "outputs": [],
   "source": [
    "TRAIN_DATASET_PATH = \"train.csv\"\n",
    "TEST_DATASET_PATH = \"test.csv\""
   ]
  },
  {
   "cell_type": "code",
   "execution_count": 3,
   "id": "c522e7fb",
   "metadata": {},
   "outputs": [
    {
     "data": {
      "text/html": [
       "<div>\n",
       "<style scoped>\n",
       "    .dataframe tbody tr th:only-of-type {\n",
       "        vertical-align: middle;\n",
       "    }\n",
       "\n",
       "    .dataframe tbody tr th {\n",
       "        vertical-align: top;\n",
       "    }\n",
       "\n",
       "    .dataframe thead th {\n",
       "        text-align: right;\n",
       "    }\n",
       "</style>\n",
       "<table border=\"1\" class=\"dataframe\">\n",
       "  <thead>\n",
       "    <tr style=\"text-align: right;\">\n",
       "      <th></th>\n",
       "      <th>Id</th>\n",
       "      <th>age</th>\n",
       "      <th>years_of_experience</th>\n",
       "      <th>lesson_price</th>\n",
       "      <th>qualification</th>\n",
       "      <th>physics</th>\n",
       "      <th>chemistry</th>\n",
       "      <th>biology</th>\n",
       "      <th>english</th>\n",
       "      <th>geography</th>\n",
       "      <th>history</th>\n",
       "      <th>mean_exam_points</th>\n",
       "    </tr>\n",
       "  </thead>\n",
       "  <tbody>\n",
       "    <tr>\n",
       "      <th>0</th>\n",
       "      <td>0</td>\n",
       "      <td>40.0</td>\n",
       "      <td>0.0</td>\n",
       "      <td>1400.0</td>\n",
       "      <td>1.0</td>\n",
       "      <td>1.0</td>\n",
       "      <td>0.0</td>\n",
       "      <td>0.0</td>\n",
       "      <td>0.0</td>\n",
       "      <td>1.0</td>\n",
       "      <td>0.0</td>\n",
       "      <td>61</td>\n",
       "    </tr>\n",
       "    <tr>\n",
       "      <th>1</th>\n",
       "      <td>1</td>\n",
       "      <td>48.0</td>\n",
       "      <td>4.0</td>\n",
       "      <td>2850.0</td>\n",
       "      <td>3.0</td>\n",
       "      <td>1.0</td>\n",
       "      <td>0.0</td>\n",
       "      <td>0.0</td>\n",
       "      <td>0.0</td>\n",
       "      <td>0.0</td>\n",
       "      <td>0.0</td>\n",
       "      <td>76</td>\n",
       "    </tr>\n",
       "    <tr>\n",
       "      <th>2</th>\n",
       "      <td>2</td>\n",
       "      <td>39.0</td>\n",
       "      <td>0.0</td>\n",
       "      <td>1200.0</td>\n",
       "      <td>1.0</td>\n",
       "      <td>0.0</td>\n",
       "      <td>0.0</td>\n",
       "      <td>0.0</td>\n",
       "      <td>0.0</td>\n",
       "      <td>0.0</td>\n",
       "      <td>0.0</td>\n",
       "      <td>53</td>\n",
       "    </tr>\n",
       "    <tr>\n",
       "      <th>3</th>\n",
       "      <td>3</td>\n",
       "      <td>46.0</td>\n",
       "      <td>5.0</td>\n",
       "      <td>1400.0</td>\n",
       "      <td>1.0</td>\n",
       "      <td>0.0</td>\n",
       "      <td>0.0</td>\n",
       "      <td>0.0</td>\n",
       "      <td>0.0</td>\n",
       "      <td>0.0</td>\n",
       "      <td>0.0</td>\n",
       "      <td>54</td>\n",
       "    </tr>\n",
       "    <tr>\n",
       "      <th>4</th>\n",
       "      <td>4</td>\n",
       "      <td>43.0</td>\n",
       "      <td>1.0</td>\n",
       "      <td>1500.0</td>\n",
       "      <td>1.0</td>\n",
       "      <td>0.0</td>\n",
       "      <td>0.0</td>\n",
       "      <td>0.0</td>\n",
       "      <td>0.0</td>\n",
       "      <td>0.0</td>\n",
       "      <td>0.0</td>\n",
       "      <td>57</td>\n",
       "    </tr>\n",
       "  </tbody>\n",
       "</table>\n",
       "</div>"
      ],
      "text/plain": [
       "   Id   age  years_of_experience  lesson_price  qualification  physics  \\\n",
       "0   0  40.0                  0.0        1400.0            1.0      1.0   \n",
       "1   1  48.0                  4.0        2850.0            3.0      1.0   \n",
       "2   2  39.0                  0.0        1200.0            1.0      0.0   \n",
       "3   3  46.0                  5.0        1400.0            1.0      0.0   \n",
       "4   4  43.0                  1.0        1500.0            1.0      0.0   \n",
       "\n",
       "   chemistry  biology  english  geography  history  mean_exam_points  \n",
       "0        0.0      0.0      0.0        1.0      0.0                61  \n",
       "1        0.0      0.0      0.0        0.0      0.0                76  \n",
       "2        0.0      0.0      0.0        0.0      0.0                53  \n",
       "3        0.0      0.0      0.0        0.0      0.0                54  \n",
       "4        0.0      0.0      0.0        0.0      0.0                57  "
      ]
     },
     "execution_count": 3,
     "metadata": {},
     "output_type": "execute_result"
    }
   ],
   "source": [
    "train = pd.read_csv(TRAIN_DATASET_PATH)\n",
    "train.head()"
   ]
  },
  {
   "cell_type": "code",
   "execution_count": 4,
   "id": "148ecf26",
   "metadata": {},
   "outputs": [
    {
     "data": {
      "text/html": [
       "<div>\n",
       "<style scoped>\n",
       "    .dataframe tbody tr th:only-of-type {\n",
       "        vertical-align: middle;\n",
       "    }\n",
       "\n",
       "    .dataframe tbody tr th {\n",
       "        vertical-align: top;\n",
       "    }\n",
       "\n",
       "    .dataframe thead th {\n",
       "        text-align: right;\n",
       "    }\n",
       "</style>\n",
       "<table border=\"1\" class=\"dataframe\">\n",
       "  <thead>\n",
       "    <tr style=\"text-align: right;\">\n",
       "      <th></th>\n",
       "      <th>Id</th>\n",
       "      <th>age</th>\n",
       "      <th>years_of_experience</th>\n",
       "      <th>lesson_price</th>\n",
       "      <th>qualification</th>\n",
       "      <th>physics</th>\n",
       "      <th>chemistry</th>\n",
       "      <th>biology</th>\n",
       "      <th>english</th>\n",
       "      <th>geography</th>\n",
       "      <th>history</th>\n",
       "      <th>mean_exam_points</th>\n",
       "    </tr>\n",
       "  </thead>\n",
       "  <tbody>\n",
       "    <tr>\n",
       "      <th>9995</th>\n",
       "      <td>9995</td>\n",
       "      <td>44.0</td>\n",
       "      <td>0.0</td>\n",
       "      <td>1700.0</td>\n",
       "      <td>2.0</td>\n",
       "      <td>1.0</td>\n",
       "      <td>1.0</td>\n",
       "      <td>0.0</td>\n",
       "      <td>0.0</td>\n",
       "      <td>0.0</td>\n",
       "      <td>0.0</td>\n",
       "      <td>83</td>\n",
       "    </tr>\n",
       "    <tr>\n",
       "      <th>9996</th>\n",
       "      <td>9996</td>\n",
       "      <td>51.0</td>\n",
       "      <td>0.0</td>\n",
       "      <td>1700.0</td>\n",
       "      <td>2.0</td>\n",
       "      <td>0.0</td>\n",
       "      <td>0.0</td>\n",
       "      <td>0.0</td>\n",
       "      <td>0.0</td>\n",
       "      <td>0.0</td>\n",
       "      <td>0.0</td>\n",
       "      <td>58</td>\n",
       "    </tr>\n",
       "    <tr>\n",
       "      <th>9997</th>\n",
       "      <td>9997</td>\n",
       "      <td>34.0</td>\n",
       "      <td>1.0</td>\n",
       "      <td>1250.0</td>\n",
       "      <td>1.0</td>\n",
       "      <td>1.0</td>\n",
       "      <td>0.0</td>\n",
       "      <td>0.0</td>\n",
       "      <td>0.0</td>\n",
       "      <td>0.0</td>\n",
       "      <td>0.0</td>\n",
       "      <td>62</td>\n",
       "    </tr>\n",
       "    <tr>\n",
       "      <th>9998</th>\n",
       "      <td>9998</td>\n",
       "      <td>33.0</td>\n",
       "      <td>3.0</td>\n",
       "      <td>1100.0</td>\n",
       "      <td>1.0</td>\n",
       "      <td>0.0</td>\n",
       "      <td>0.0</td>\n",
       "      <td>0.0</td>\n",
       "      <td>0.0</td>\n",
       "      <td>0.0</td>\n",
       "      <td>0.0</td>\n",
       "      <td>56</td>\n",
       "    </tr>\n",
       "    <tr>\n",
       "      <th>9999</th>\n",
       "      <td>9999</td>\n",
       "      <td>35.0</td>\n",
       "      <td>0.0</td>\n",
       "      <td>1450.0</td>\n",
       "      <td>1.0</td>\n",
       "      <td>0.0</td>\n",
       "      <td>0.0</td>\n",
       "      <td>0.0</td>\n",
       "      <td>0.0</td>\n",
       "      <td>0.0</td>\n",
       "      <td>0.0</td>\n",
       "      <td>52</td>\n",
       "    </tr>\n",
       "  </tbody>\n",
       "</table>\n",
       "</div>"
      ],
      "text/plain": [
       "        Id   age  years_of_experience  lesson_price  qualification  physics  \\\n",
       "9995  9995  44.0                  0.0        1700.0            2.0      1.0   \n",
       "9996  9996  51.0                  0.0        1700.0            2.0      0.0   \n",
       "9997  9997  34.0                  1.0        1250.0            1.0      1.0   \n",
       "9998  9998  33.0                  3.0        1100.0            1.0      0.0   \n",
       "9999  9999  35.0                  0.0        1450.0            1.0      0.0   \n",
       "\n",
       "      chemistry  biology  english  geography  history  mean_exam_points  \n",
       "9995        1.0      0.0      0.0        0.0      0.0                83  \n",
       "9996        0.0      0.0      0.0        0.0      0.0                58  \n",
       "9997        0.0      0.0      0.0        0.0      0.0                62  \n",
       "9998        0.0      0.0      0.0        0.0      0.0                56  \n",
       "9999        0.0      0.0      0.0        0.0      0.0                52  "
      ]
     },
     "execution_count": 4,
     "metadata": {},
     "output_type": "execute_result"
    }
   ],
   "source": [
    "train.tail()"
   ]
  },
  {
   "cell_type": "code",
   "execution_count": 5,
   "id": "47744e9f",
   "metadata": {},
   "outputs": [
    {
     "name": "stdout",
     "output_type": "stream",
     "text": [
      "<class 'pandas.core.frame.DataFrame'>\n",
      "RangeIndex: 10000 entries, 0 to 9999\n",
      "Data columns (total 12 columns):\n",
      " #   Column               Non-Null Count  Dtype  \n",
      "---  ------               --------------  -----  \n",
      " 0   Id                   10000 non-null  int64  \n",
      " 1   age                  10000 non-null  float64\n",
      " 2   years_of_experience  10000 non-null  float64\n",
      " 3   lesson_price         10000 non-null  float64\n",
      " 4   qualification        10000 non-null  float64\n",
      " 5   physics              10000 non-null  float64\n",
      " 6   chemistry            10000 non-null  float64\n",
      " 7   biology              10000 non-null  float64\n",
      " 8   english              10000 non-null  float64\n",
      " 9   geography            10000 non-null  float64\n",
      " 10  history              10000 non-null  float64\n",
      " 11  mean_exam_points     10000 non-null  int64  \n",
      "dtypes: float64(10), int64(2)\n",
      "memory usage: 937.6 KB\n"
     ]
    }
   ],
   "source": [
    "train.info()\n"
   ]
  },
  {
   "cell_type": "code",
   "execution_count": 6,
   "id": "e6aea5b2",
   "metadata": {},
   "outputs": [
    {
     "data": {
      "text/html": [
       "<div>\n",
       "<style scoped>\n",
       "    .dataframe tbody tr th:only-of-type {\n",
       "        vertical-align: middle;\n",
       "    }\n",
       "\n",
       "    .dataframe tbody tr th {\n",
       "        vertical-align: top;\n",
       "    }\n",
       "\n",
       "    .dataframe thead th {\n",
       "        text-align: right;\n",
       "    }\n",
       "</style>\n",
       "<table border=\"1\" class=\"dataframe\">\n",
       "  <thead>\n",
       "    <tr style=\"text-align: right;\">\n",
       "      <th></th>\n",
       "      <th>Id</th>\n",
       "      <th>age</th>\n",
       "      <th>years_of_experience</th>\n",
       "      <th>lesson_price</th>\n",
       "      <th>qualification</th>\n",
       "      <th>physics</th>\n",
       "      <th>chemistry</th>\n",
       "      <th>biology</th>\n",
       "      <th>english</th>\n",
       "      <th>geography</th>\n",
       "      <th>history</th>\n",
       "      <th>mean_exam_points</th>\n",
       "    </tr>\n",
       "  </thead>\n",
       "  <tbody>\n",
       "    <tr>\n",
       "      <th>count</th>\n",
       "      <td>10000.00000</td>\n",
       "      <td>10000.000000</td>\n",
       "      <td>10000.000000</td>\n",
       "      <td>10000.000000</td>\n",
       "      <td>10000.000000</td>\n",
       "      <td>10000.000000</td>\n",
       "      <td>10000.000000</td>\n",
       "      <td>10000.000000</td>\n",
       "      <td>10000.000000</td>\n",
       "      <td>10000.000000</td>\n",
       "      <td>10000.000000</td>\n",
       "      <td>10000.000000</td>\n",
       "    </tr>\n",
       "    <tr>\n",
       "      <th>mean</th>\n",
       "      <td>4999.50000</td>\n",
       "      <td>45.878000</td>\n",
       "      <td>1.986800</td>\n",
       "      <td>1699.105000</td>\n",
       "      <td>1.719500</td>\n",
       "      <td>0.375000</td>\n",
       "      <td>0.132900</td>\n",
       "      <td>0.109600</td>\n",
       "      <td>0.053700</td>\n",
       "      <td>0.032100</td>\n",
       "      <td>0.019400</td>\n",
       "      <td>63.737300</td>\n",
       "    </tr>\n",
       "    <tr>\n",
       "      <th>std</th>\n",
       "      <td>2886.89568</td>\n",
       "      <td>8.043929</td>\n",
       "      <td>1.772213</td>\n",
       "      <td>524.886654</td>\n",
       "      <td>0.792264</td>\n",
       "      <td>0.484147</td>\n",
       "      <td>0.339484</td>\n",
       "      <td>0.312406</td>\n",
       "      <td>0.225436</td>\n",
       "      <td>0.176274</td>\n",
       "      <td>0.137933</td>\n",
       "      <td>14.705574</td>\n",
       "    </tr>\n",
       "    <tr>\n",
       "      <th>min</th>\n",
       "      <td>0.00000</td>\n",
       "      <td>23.000000</td>\n",
       "      <td>0.000000</td>\n",
       "      <td>200.000000</td>\n",
       "      <td>1.000000</td>\n",
       "      <td>0.000000</td>\n",
       "      <td>0.000000</td>\n",
       "      <td>0.000000</td>\n",
       "      <td>0.000000</td>\n",
       "      <td>0.000000</td>\n",
       "      <td>0.000000</td>\n",
       "      <td>32.000000</td>\n",
       "    </tr>\n",
       "    <tr>\n",
       "      <th>25%</th>\n",
       "      <td>2499.75000</td>\n",
       "      <td>40.000000</td>\n",
       "      <td>0.000000</td>\n",
       "      <td>1300.000000</td>\n",
       "      <td>1.000000</td>\n",
       "      <td>0.000000</td>\n",
       "      <td>0.000000</td>\n",
       "      <td>0.000000</td>\n",
       "      <td>0.000000</td>\n",
       "      <td>0.000000</td>\n",
       "      <td>0.000000</td>\n",
       "      <td>53.000000</td>\n",
       "    </tr>\n",
       "    <tr>\n",
       "      <th>50%</th>\n",
       "      <td>4999.50000</td>\n",
       "      <td>46.000000</td>\n",
       "      <td>2.000000</td>\n",
       "      <td>1500.000000</td>\n",
       "      <td>2.000000</td>\n",
       "      <td>0.000000</td>\n",
       "      <td>0.000000</td>\n",
       "      <td>0.000000</td>\n",
       "      <td>0.000000</td>\n",
       "      <td>0.000000</td>\n",
       "      <td>0.000000</td>\n",
       "      <td>63.000000</td>\n",
       "    </tr>\n",
       "    <tr>\n",
       "      <th>75%</th>\n",
       "      <td>7499.25000</td>\n",
       "      <td>51.000000</td>\n",
       "      <td>3.000000</td>\n",
       "      <td>2150.000000</td>\n",
       "      <td>2.000000</td>\n",
       "      <td>1.000000</td>\n",
       "      <td>0.000000</td>\n",
       "      <td>0.000000</td>\n",
       "      <td>0.000000</td>\n",
       "      <td>0.000000</td>\n",
       "      <td>0.000000</td>\n",
       "      <td>74.000000</td>\n",
       "    </tr>\n",
       "    <tr>\n",
       "      <th>max</th>\n",
       "      <td>9999.00000</td>\n",
       "      <td>68.000000</td>\n",
       "      <td>10.000000</td>\n",
       "      <td>3950.000000</td>\n",
       "      <td>4.000000</td>\n",
       "      <td>1.000000</td>\n",
       "      <td>1.000000</td>\n",
       "      <td>1.000000</td>\n",
       "      <td>1.000000</td>\n",
       "      <td>1.000000</td>\n",
       "      <td>1.000000</td>\n",
       "      <td>100.000000</td>\n",
       "    </tr>\n",
       "  </tbody>\n",
       "</table>\n",
       "</div>"
      ],
      "text/plain": [
       "                Id           age  years_of_experience  lesson_price  \\\n",
       "count  10000.00000  10000.000000         10000.000000  10000.000000   \n",
       "mean    4999.50000     45.878000             1.986800   1699.105000   \n",
       "std     2886.89568      8.043929             1.772213    524.886654   \n",
       "min        0.00000     23.000000             0.000000    200.000000   \n",
       "25%     2499.75000     40.000000             0.000000   1300.000000   \n",
       "50%     4999.50000     46.000000             2.000000   1500.000000   \n",
       "75%     7499.25000     51.000000             3.000000   2150.000000   \n",
       "max     9999.00000     68.000000            10.000000   3950.000000   \n",
       "\n",
       "       qualification       physics     chemistry       biology       english  \\\n",
       "count   10000.000000  10000.000000  10000.000000  10000.000000  10000.000000   \n",
       "mean        1.719500      0.375000      0.132900      0.109600      0.053700   \n",
       "std         0.792264      0.484147      0.339484      0.312406      0.225436   \n",
       "min         1.000000      0.000000      0.000000      0.000000      0.000000   \n",
       "25%         1.000000      0.000000      0.000000      0.000000      0.000000   \n",
       "50%         2.000000      0.000000      0.000000      0.000000      0.000000   \n",
       "75%         2.000000      1.000000      0.000000      0.000000      0.000000   \n",
       "max         4.000000      1.000000      1.000000      1.000000      1.000000   \n",
       "\n",
       "          geography       history  mean_exam_points  \n",
       "count  10000.000000  10000.000000      10000.000000  \n",
       "mean       0.032100      0.019400         63.737300  \n",
       "std        0.176274      0.137933         14.705574  \n",
       "min        0.000000      0.000000         32.000000  \n",
       "25%        0.000000      0.000000         53.000000  \n",
       "50%        0.000000      0.000000         63.000000  \n",
       "75%        0.000000      0.000000         74.000000  \n",
       "max        1.000000      1.000000        100.000000  "
      ]
     },
     "execution_count": 6,
     "metadata": {},
     "output_type": "execute_result"
    }
   ],
   "source": [
    "train.describe()"
   ]
  },
  {
   "cell_type": "code",
   "execution_count": 10,
   "id": "9cb9e331",
   "metadata": {},
   "outputs": [],
   "source": [
    "# Вычисление корреляционной матрицы\n",
    "corr = train.corr()"
   ]
  },
  {
   "cell_type": "code",
   "execution_count": 11,
   "id": "5b76c9fe",
   "metadata": {},
   "outputs": [
    {
     "name": "stderr",
     "output_type": "stream",
     "text": [
      "<ipython-input-11-46a425620225>:2: DeprecationWarning: `np.bool` is a deprecated alias for the builtin `bool`. To silence this warning, use `bool` by itself. Doing this will not modify any behavior and is safe. If you specifically wanted the numpy scalar type, use `np.bool_` here.\n",
      "Deprecated in NumPy 1.20; for more details and guidance: https://numpy.org/devdocs/release/1.20.0-notes.html#deprecations\n",
      "  mask = np.triu(np.ones_like(corr, dtype=np.bool))\n"
     ]
    }
   ],
   "source": [
    "# Создать маску для верхнего треугольника\n",
    "mask = np.triu(np.ones_like(corr, dtype=np.bool))"
   ]
  },
  {
   "cell_type": "code",
   "execution_count": null,
   "id": "977d0b9c",
   "metadata": {},
   "outputs": [],
   "source": [
    "# НАстройка фигуры matplotlib\n",
    "f, ax = plt.subplots(figsize=(11, 9))"
   ]
  },
  {
   "cell_type": "code",
   "execution_count": 13,
   "id": "48ecb5b0",
   "metadata": {},
   "outputs": [],
   "source": [
    "# Создание пользовательской карты\n",
    "cmap = sns.diverging_palette(220, 10, as_cmap=True)"
   ]
  },
  {
   "cell_type": "code",
   "execution_count": 14,
   "id": "aa95192b",
   "metadata": {},
   "outputs": [
    {
     "data": {
      "text/plain": [
       "<AxesSubplot:>"
      ]
     },
     "execution_count": 14,
     "metadata": {},
     "output_type": "execute_result"
    },
    {
     "data": {
      "image/png": "[encoded data removed]",
      "text/plain": [
       "<Figure size 432x288 with 2 Axes>"
      ]
     },
     "metadata": {
      "needs_background": "light"
     },
     "output_type": "display_data"
    }
   ],
   "source": [
    "# Создание таблицы на основе исходных данных\n",
    "sns.heatmap(corr, mask=mask, cmap=cmap, vmax=.3, center=0,\n",
    "            square=True, linewidths=.5, cbar_kws={\"shrink\": .5})"
   ]
  },
  {
   "cell_type": "code",
   "execution_count": 15,
   "id": "8d4cd0bd",
   "metadata": {},
   "outputs": [
    {
     "data": {
      "text/plain": [
       "<seaborn.axisgrid.PairGrid at 0x10c623ee2e0>"
      ]
     },
     "execution_count": 15,
     "metadata": {},
     "output_type": "execute_result"
    },
    {
     "data": {
      "image/png": "[encoded data removed]",
      "text/plain": [
       "<Figure size 540x540 with 12 Axes>"
      ]
     },
     "metadata": {
      "needs_background": "light"
     },
     "output_type": "display_data"
    }
   ],
   "source": [
    "# Гистограммы на основе данных\n",
    "sns.pairplot(train.loc[:, ['lesson_price', 'qualification', 'mean_exam_points']])"
   ]
  },
  {
   "cell_type": "markdown",
   "id": "06d882fc",
   "metadata": {},
   "source": [
    "#####  Выберерм метод ROC AUC"
   ]
  },
  {
   "cell_type": "code",
   "execution_count": 16,
   "id": "97ce2d3d",
   "metadata": {},
   "outputs": [],
   "source": [
    "# Функция логистической регрессии\n",
    "def sigmoid(z):\n",
    "    return 1 / (1 + np.exp(-z))"
   ]
  },
  {
   "cell_type": "code",
   "execution_count": 17,
   "id": "49878460",
   "metadata": {},
   "outputs": [],
   "source": [
    "# Функция вычисления логарифмической функции потерь(кросс-энтропии)\n",
    "def calc_logloss(y, y_pred):\n",
    "    y_pred = np.array(list(map(lambda x: 1e-10 if x == 0 else (1 - 1e-10) if x == 1 else x, y_pred)))\n",
    "    err = - np.mean(y*np.log(y_pred) + (1.0 - y)*np.log(1.0 - y_pred))\n",
    "    return np.sum(err)"
   ]
  },
  {
   "cell_type": "code",
   "execution_count": 18,
   "id": "6e81e920",
   "metadata": {},
   "outputs": [],
   "source": [
    "# Функция вычисления весов и ошибок с использованием штрафов\n",
    "def logreg_eval_model(X, y, iterations=100, alpha=1e-4, penalty='l2', verbose=False, random_state=42):\n",
    "    np.random.seed(random_state)\n",
    "    W = np.random.randn(X.shape[1])\n",
    "    n = X.shape[0]\n",
    "    for i in range(1, iterations+1):\n",
    "        z = np.dot(W, X.T)\n",
    "        y_pred = sigmoid(z)\n",
    "        err = calc_logloss(y, y_pred)\n",
    "        \n",
    "        if penalty == 'l1':\n",
    "            regularization = W / np.abs(W)\n",
    "        elif penalty == 'l2':\n",
    "            regularization = W\n",
    "        else:\n",
    "            regularization = 0\n",
    "            \n",
    "        W -= alpha * (1 / n * np.dot((y_pred - y), X)) + regularization\n",
    "        \n",
    "        if verbose:\n",
    "            if i % (iterations / 10) == 0:\n",
    "                print(f'итерация: {i}, logloss: {np.round(err, 4)}, веса: {W}')\n",
    "            \n",
    "    return W, err"
   ]
  },
  {
   "cell_type": "code",
   "execution_count": 19,
   "id": "ae44a18f",
   "metadata": {},
   "outputs": [],
   "source": [
    "# Функция предсказаний\n",
    "def calc_pred_proba(W, X):\n",
    "    y_pred_proba = 1 / (1 + np.exp(-np.dot(W, X.T)))\n",
    "    return y_pred_proba\n",
    "\n",
    "def calc_pred(W, X, threshold=0.5):\n",
    "    y_pred_proba = calc_pred_proba(W, X)\n",
    "    y_pred = np.array([1 if proba >= threshold else 0 for proba in y_pred_proba], dtype = np.int32)\n",
    "    return y_pred"
   ]
  },
  {
   "cell_type": "code",
   "execution_count": 20,
   "id": "3c17cb57",
   "metadata": {},
   "outputs": [],
   "source": [
    "# Реализация градиентного спуска\n",
    "def optimize(func, X, y, iterations, alphas, penalty='l1', verbose=False, random_state=42):\n",
    "    grid = {}\n",
    "    for iteration in iterations:\n",
    "        for alpha in alphas:\n",
    "            W, err = func(X, y, iterations=iteration, alpha=alpha, penalty=penalty, verbose=verbose, random_state=random_state)\n",
    "            grid[(iteration, alpha)] = err\n",
    "    result = sorted(grid.items(), key=lambda x: x[1])[0]\n",
    "    best_iter, best_alpha = result[0]\n",
    "    best_err = result[1]\n",
    "    return best_iter, best_alpha, best_err"
   ]
  },
  {
   "cell_type": "code",
   "execution_count": 21,
   "id": "ac77dcea",
   "metadata": {},
   "outputs": [],
   "source": [
    "# Реализация ПОльзовательского стандартного масштабатора\n",
    "class CustomStandardScaler:\n",
    "        \n",
    "    def _calc_mean(self, x):\n",
    "        return x.mean(axis=0)\n",
    "    \n",
    "    def _calc_std(self, x):\n",
    "        return x.std(axis=0)\n",
    "    \n",
    "    def _set_mean(self, mean):\n",
    "        self._mean = mean\n",
    "    \n",
    "    def _get_mean(self):\n",
    "        return self._mean\n",
    "    \n",
    "    def _set_std(self, std):\n",
    "        self._std = std\n",
    "        \n",
    "    def _get_std(self):\n",
    "        return self._std\n",
    "    \n",
    "    def fit(self, x):\n",
    "        self._set_mean(self._calc_mean(x))\n",
    "        self._set_std(self._calc_std(x))\n",
    "    \n",
    "    def transform(self, x):\n",
    "        return (x - self._get_mean()) / self._get_std()\n",
    "    \n",
    "    def fit_transform(self, x):\n",
    "        self.fit(x)\n",
    "        x_transformed = self.transform(x)\n",
    "        return x_transformed"
   ]
  },
  {
   "cell_type": "code",
   "execution_count": 28,
   "id": "95582231",
   "metadata": {},
   "outputs": [],
   "source": [
    "columns = ['lesson_price', 'qualification']\n",
    "\n",
    "X = train.loc[:, columns].values\n",
    "y = train['mean_exam_points'].values"
   ]
  },
  {
   "cell_type": "code",
   "execution_count": 29,
   "id": "9287da5e",
   "metadata": {},
   "outputs": [],
   "source": [
    "# Валидация\n",
    "X_train, X_valid, y_train, y_valid = train_test_split(X, y, test_size=0.2, random_state=42, stratify=y)"
   ]
  },
  {
   "cell_type": "code",
   "execution_count": 30,
   "id": "ea6574a1",
   "metadata": {},
   "outputs": [],
   "source": [
    "scaler = CustomStandardScaler()\n",
    "\n",
    "X_train_std = scaler.fit_transform(X_train)\n",
    "X_valid_std = scaler.transform(X_valid)"
   ]
  },
  {
   "cell_type": "code",
   "execution_count": 31,
   "id": "94914e09",
   "metadata": {},
   "outputs": [
    {
     "name": "stderr",
     "output_type": "stream",
     "text": [
      "<ipython-input-16-f234324d71a3>:3: RuntimeWarning: overflow encountered in exp\n",
      "  return 1 / (1 + np.exp(-z))\n"
     ]
    },
    {
     "name": "stdout",
     "output_type": "stream",
     "text": [
      "best # of iterations: 100, best alpha: 0.01, log_loss: -19.473672421535195\n"
     ]
    }
   ],
   "source": [
    "iterations, alphas = np.arange(100, 201, 100), np.linspace(0.01, 1.0, 10)\n",
    "\n",
    "best_iter, best_alpha, best_err = optimize(logreg_eval_model, X_train_std, y_train, iterations, alphas)\n",
    "\n",
    "print(f'best # of iterations: {best_iter}, best alpha: {best_alpha}, log_loss: {best_err}')"
   ]
  },
  {
   "cell_type": "code",
   "execution_count": 32,
   "id": "00b1d360",
   "metadata": {},
   "outputs": [],
   "source": [
    "W, _ = logreg_eval_model(X_train_std, y_train, best_iter, best_alpha)"
   ]
  },
  {
   "cell_type": "code",
   "execution_count": 33,
   "id": "6066cfeb",
   "metadata": {},
   "outputs": [],
   "source": [
    "y_train_hat = calc_pred_proba(W, X_train_std)\n",
    "y_valid_hat = calc_pred_proba(W, X_valid_std)"
   ]
  },
  {
   "cell_type": "code",
   "execution_count": 34,
   "id": "db6e9087",
   "metadata": {},
   "outputs": [
    {
     "name": "stdout",
     "output_type": "stream",
     "text": [
      "Train logloss: -1.290394542938295\n",
      "Valid logloss: -1.6898307079764598\n"
     ]
    }
   ],
   "source": [
    "print(f'Train logloss: {calc_logloss(y_train, y_train_hat)}')\n",
    "print(f'Valid logloss: {calc_logloss(y_valid, y_valid_hat)}')"
   ]
  },
  {
   "cell_type": "code",
   "execution_count": 35,
   "id": "246513e9",
   "metadata": {},
   "outputs": [],
   "source": [
    "X_std = scaler.fit_transform(X)"
   ]
  },
  {
   "cell_type": "code",
   "execution_count": 36,
   "id": "caf68716",
   "metadata": {},
   "outputs": [],
   "source": [
    "W, _ = logreg_eval_model(X_std, y, best_iter, best_alpha)"
   ]
  },
  {
   "cell_type": "code",
   "execution_count": 37,
   "id": "50e43aff",
   "metadata": {},
   "outputs": [],
   "source": [
    "y_hat = calc_pred_proba(W, X_std)"
   ]
  },
  {
   "cell_type": "code",
   "execution_count": 38,
   "id": "fc84ea41",
   "metadata": {},
   "outputs": [
    {
     "name": "stdout",
     "output_type": "stream",
     "text": [
      "Total logloss: -1.3013529802452624\n"
     ]
    }
   ],
   "source": [
    "print(f'Total logloss: {calc_logloss(y, y_hat)}')"
   ]
  },
  {
   "cell_type": "code",
   "execution_count": 39,
   "id": "1ee5b3c1",
   "metadata": {},
   "outputs": [],
   "source": [
    "X_test = test.loc[:, columns].values"
   ]
  },
  {
   "cell_type": "code",
   "execution_count": 40,
   "id": "0b139746",
   "metadata": {},
   "outputs": [],
   "source": [
    "X_test_std = scaler.transform(X_test)"
   ]
  },
  {
   "cell_type": "code",
   "execution_count": 41,
   "id": "43cfd372",
   "metadata": {},
   "outputs": [],
   "source": [
    "y_test_hat = calc_pred_proba(W, X_test_std)"
   ]
  },
  {
   "cell_type": "code",
   "execution_count": 42,
   "id": "5572d4de",
   "metadata": {},
   "outputs": [],
   "source": [
    "submission = pd.DataFrame({'Id': test.index, 'mean_exam_points': y_test_hat})"
   ]
  },
  {
   "cell_type": "code",
   "execution_count": 43,
   "id": "48c53b78",
   "metadata": {},
   "outputs": [],
   "source": [
    "submission.to_csv('submission.csv', index=False, sep=',', encoding='utf-8')"
   ]
  },
  {
   "cell_type": "code",
   "execution_count": null,
   "id": "71fb1e91",
   "metadata": {},
   "outputs": [],
   "source": []
  }
 ],
 "metadata": {
  "kernelspec": {
   "display_name": "Python 3",
   "language": "python",
   "name": "python3"
  },
  "language_info": {
   "codemirror_mode": {
    "name": "ipython",
    "version": 3
   },
   "file_extension": ".py",
   "mimetype": "text/x-python",
   "name": "python",
   "nbconvert_exporter": "python",
   "pygments_lexer": "ipython3",
   "version": "3.8.8"
  }
 },
 "nbformat": 4,
 "nbformat_minor": 5
}
