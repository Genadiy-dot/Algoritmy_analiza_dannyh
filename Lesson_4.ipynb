{
 "cells": [
  {
   "cell_type": "markdown",
   "id": "ac16c910",
   "metadata": {},
   "source": [
    "# Геннадий Балан"
   ]
  },
  {
   "cell_type": "markdown",
   "id": "c61899e1",
   "metadata": {},
   "source": [
    "# Домашняя работа по Алгоритмам Анализа Данных № 4"
   ]
  },
  {
   "cell_type": "markdown",
   "id": "68ef8813",
   "metadata": {},
   "source": [
    "# Деревья решений"
   ]
  },
  {
   "cell_type": "markdown",
   "id": "692cc358",
   "metadata": {},
   "source": [
    "##### Задача 1\n",
    "В коде из методички реализуйте один или несколько из критериев останова (количество листьев, количество используемых признаков, глубина дерева и т.д.)"
   ]
  },
  {
   "cell_type": "code",
   "execution_count": 1,
   "id": "77e6637a",
   "metadata": {},
   "outputs": [],
   "source": [
    "import matplotlib.pyplot as plt\n",
    "import random\n",
    "\n",
    "from matplotlib.colors import ListedColormap\n",
    "from sklearn.datasets import make_classification, make_circles\n",
    "from sklearn.tree import DecisionTreeClassifier, DecisionTreeRegressor, plot_tree\n",
    "from sklearn.metrics import accuracy_score\n",
    "\n",
    "import numpy as np\n",
    "import pandas as pd\n",
    "\n",
    "import warnings\n",
    "warnings.filterwarnings('ignore')"
   ]
  },
  {
   "cell_type": "code",
   "execution_count": 4,
   "id": "cbe7b2c6",
   "metadata": {},
   "outputs": [],
   "source": [
    "# сгенерируем данные\n",
    "classification_data, classification_labels = make_classification(n_features=2, n_informative=2, \n",
    "                                                                 n_classes=2, n_redundant=0,\n",
    "                                                                 n_clusters_per_class=1,)\n",
    "classification_data, classification_labels = make_circles(n_samples=30, random_state=5)"
   ]
  },
  {
   "cell_type": "code",
   "execution_count": 9,
   "id": "c5e0fe0a",
   "metadata": {},
   "outputs": [],
   "source": [
    "\n",
    "dt_clsf = DecisionTreeClassifier(random_state=5,\n",
    "                                 max_depth=4)"
   ]
  },
  {
   "cell_type": "code",
   "execution_count": 12,
   "id": "dce3a786",
   "metadata": {},
   "outputs": [],
   "source": [
    "# Создание критерия останова по глубине дерева\n",
    "def to_Leaf(max_depth):\n",
    "    outcomes = [row[-1] for row in max_depth]\n",
    "    return max(set(outcomes), key=outcomes.count)"
   ]
  },
  {
   "cell_type": "code",
   "execution_count": null,
   "id": "e5e4b2aa",
   "metadata": {},
   "outputs": [],
   "source": [
    "class Node:\n",
    "    \n",
    "    def __init__(self, index, t, true_branch, false_branch):\n",
    "        self.index = index  # индекс признака, по которому ведется сравнение с порогом в этом узле\n",
    "        self.t = t  # значение порога\n",
    "        self.true_branch = true_branch  # поддерево, удовлетворяющее условию в узле\n",
    "        self.false_branch = false_branch  # поддерево, не удовлетворяющее условию в узле"
   ]
  },
  {
   "cell_type": "code",
   "execution_count": 13,
   "id": "41519f6a",
   "metadata": {},
   "outputs": [],
   "source": [
    "class Leaf:\n",
    "    \n",
    "    def __init__(self, data, labels):\n",
    "        self.data = data\n",
    "        self.labels = labels\n",
    "        self.prediction = self.predict()\n",
    "        \n",
    "    def predict(self):\n",
    "        # подсчет количества объектов разных классов\n",
    "        classes = {}  # сформируем словарь \"класс: количество объектов\"\n",
    "        for label in self.labels:\n",
    "            if label not in classes:\n",
    "                classes[label] = 0\n",
    "            classes[label] += 1\n",
    "            \n",
    "        # найдем класс, количество объектов которого будет максимальным в этом листе и вернем его    \n",
    "        prediction = max(classes, key=classes.get)\n",
    "        return prediction        "
   ]
  },
  {
   "cell_type": "markdown",
   "id": "70353ff5",
   "metadata": {},
   "source": [
    "##### Задача 2\n",
    "*Реализуйте дерево для задачи регрессии. Возьмите за основу дерево, реализованное в методичке, заменив механизм предсказания в листе на взятие среднего значения по выборке, и критерий Джини на дисперсию значений."
   ]
  },
  {
   "cell_type": "code",
   "execution_count": 17,
   "id": "de613261",
   "metadata": {},
   "outputs": [],
   "source": [
    "# И класс терминального узла (листа)\n",
    "\n",
    "class Leaf:\n",
    "    \n",
    "    def __init__(self, data):\n",
    "        self.data = data\n",
    "        \n",
    "        \n",
    "        \n",
    "    def calc_mean(self):\n",
    "        # подсчет среднего значения в листе\n",
    "        mean = array.mean()\n",
    "            \n",
    "        \n",
    "        return mean       "
   ]
  },
  {
   "cell_type": "code",
   "execution_count": 18,
   "id": "72b8351c",
   "metadata": {},
   "outputs": [],
   "source": [
    "def mse(array):# подсчёт среднего квадратичного отклонения(дисперсии)\n",
    "    return np.mean((array - mean) ** 2)\n"
   ]
  },
  {
   "cell_type": "code",
   "execution_count": null,
   "id": "9242e853",
   "metadata": {},
   "outputs": [],
   "source": []
  }
 ],
 "metadata": {
  "kernelspec": {
   "display_name": "Python 3",
   "language": "python",
   "name": "python3"
  },
  "language_info": {
   "codemirror_mode": {
    "name": "ipython",
    "version": 3
   },
   "file_extension": ".py",
   "mimetype": "text/x-python",
   "name": "python",
   "nbconvert_exporter": "python",
   "pygments_lexer": "ipython3",
   "version": "3.8.8"
  }
 },
 "nbformat": 4,
 "nbformat_minor": 5
}
